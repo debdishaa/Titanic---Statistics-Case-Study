{
 "cells": [
  {
   "cell_type": "markdown",
   "id": "0600a137",
   "metadata": {},
   "source": [
    "# Titanic Dataset\n"
   ]
  },
  {
   "cell_type": "markdown",
   "id": "c85b4a93",
   "metadata": {},
   "source": [
    "The sinking of the Titanic is one of the most infamous shipwrecks in history.\n",
    "On April 15, 1912, during her maiden voyage, the widely considered “unsinkable” RMS\n",
    "Titanic sank after colliding with an iceberg. Unfortunately, there weren’t enough\n",
    "lifeboats for everyone on board, resulting in the death of 1502 out of 2224 passengers\n",
    "and crew. While there was some element of luck involved in surviving, it seems some\n",
    "groups of people were more likely to survive than others.\n"
   ]
  },
  {
   "cell_type": "markdown",
   "id": "18455d73",
   "metadata": {},
   "source": [
    "Feature Details:\n",
    "    \n",
    "1. Variable Definition\n",
    "2. survival - Survival (0 = No, 1 = Yes)\n",
    "3. pclass - Ticket class (1 = 1st, 2 = 2nd, 3 = 3rd)\n",
    "4. sex - Sex (0 = Female, 1 = Male)\n",
    "5. Age - Age in years\n",
    "6. sibsp - # of siblings / spouses aboard the Titanic\n",
    "7. parch - # of parents / children aboard the Titanic\n",
    "8. ticket - Ticket number\n",
    "9. fare - Passenger fare\n",
    "10. cabin - Cabin number\n",
    "11. embarked - Port of Embarkation (C=Cherbourg, Q=Queenstown, S=Southampton)\n"
   ]
  },
  {
   "cell_type": "markdown",
   "id": "97591148",
   "metadata": {},
   "source": [
    "1. Mean Age of Survivors : \n",
    "\n",
    "Given File 'titanic.csv'\n",
    "Problem Statement:\n",
    "From the dataset, find the mean age of the people who did not survive.\n",
    "In the dataset,\n",
    "For Survived = 0 means the passenger has not survived.\n",
    "\n",
    "For Survived = 1 means the passenger has survived.\n",
    "\n",
    "\n",
    "Output Format:\n",
    "Print the mean rounded off to two decimal places."
   ]
  },
  {
   "cell_type": "code",
   "execution_count": null,
   "id": "03d31c77",
   "metadata": {},
   "outputs": [],
   "source": [
    "import pandas as pd\n",
    "\n",
    "# Load the dataset\n",
    "data = pd.read_csv('titanic.csv')\n",
    "\n",
    "# Filter data where 'Survived' is equal to 0 (not survived)\n",
    "not_survived_data = data[data['Survived'] == 0]\n",
    "\n",
    "# Calculate the mean age of people who did not survive\n",
    "mean_age_not_survived = not_survived_data['Age'].mean()\n",
    "\n",
    "# Print the mean age rounded off to two decimal places\n",
    "print(round(mean_age_not_survived, 2))\n"
   ]
  },
  {
   "cell_type": "markdown",
   "id": "a6744585",
   "metadata": {},
   "source": [
    "2. Percentage of Survivors :\n",
    "\n",
    "Given File 'titanic.csv'\n",
    "Problem Statement:\n",
    "From the dataset, find the following:\n",
    "\n",
    "\n",
    "1.Percentage of Passengers Survived.\n",
    "2.Of the total survived passengers what percentage are the male passengers.\n",
    "3.Of the total survived passengers what percentage are the female passengers.\n",
    "\n",
    "\n",
    "In the dataset,\n",
    "For Survived = 0 means the passenger has not survived.\n",
    "\n",
    "For Survived = 1 means the passenger has survived.\n",
    "\n",
    "For Sex = 1 means the passenger is male.\n",
    "\n",
    "For Sex = 0 means the passenger is Female.\n",
    "\n",
    "\n",
    "Output Format:\n",
    "Print the percentages rounded off to two decimal places in separate lines."
   ]
  },
  {
   "cell_type": "code",
   "execution_count": null,
   "id": "3d9e77f1",
   "metadata": {},
   "outputs": [],
   "source": [
    "import pandas as pd\n",
    "\n",
    "# Load the dataset\n",
    "data = pd.read_csv('titanic.csv')\n",
    "\n",
    "# Total number of passengers\n",
    "total_passengers = len(data)\n",
    "\n",
    "# Number of passengers who survived\n",
    "survived_passengers = len(data[data['Survived'] == 1])\n",
    "\n",
    "# Number of male passengers who survived\n",
    "male_survived_passengers = len(data[(data['Survived'] == 1) & (data['Sex'] == 1)])\n",
    "\n",
    "# Number of female passengers who survived\n",
    "female_survived_passengers = len(data[(data['Survived'] == 1) & (data['Sex'] == 0)])\n",
    "\n",
    "# Calculate percentages\n",
    "percentage_survived = (survived_passengers / total_passengers) * 100\n",
    "percentage_male_survived = (male_survived_passengers / survived_passengers) * 100\n",
    "percentage_female_survived = (female_survived_passengers / survived_passengers) * 100\n",
    "\n",
    "# Print the percentages rounded off to two decimal places\n",
    "print(round(percentage_survived, 2))\n",
    "print(round(percentage_male_survived, 2))\n",
    "print(round(percentage_female_survived, 2))"
   ]
  },
  {
   "cell_type": "markdown",
   "id": "407b8374",
   "metadata": {},
   "source": [
    "3. Highest Correlation : \n",
    "\n",
    "Given File 'titanic.csv'\n",
    "\n",
    "\n",
    "Problem Statement:\n",
    "From the dataset, find the variable having the highest correlation with the Survival rate.\n",
    "\n",
    "\n",
    "Note: Survival rate is denoted by the \"Survived\" column.\n",
    "\n",
    "\n",
    "Output Format:\n",
    "Print the column name having the highest correlation with the Survived column.\n",
    "Print the absolute value of the correlation of this column rounded off to two decimal places.\n",
    "These values should be separated by a new line.\n"
   ]
  },
  {
   "cell_type": "code",
   "execution_count": null,
   "id": "1d5005ff",
   "metadata": {},
   "outputs": [],
   "source": [
    "import pandas as pd\n",
    "\n",
    "# Load the dataset\n",
    "data = pd.read_csv('titanic.csv')\n",
    "\n",
    "# Calculate correlation with the 'Survived' column for all other columns\n",
    "correlations = data.corr()['Survived'].abs().sort_values(ascending=False)\n",
    "\n",
    "# Get the column name with the highest correlation (except 'Survived' column itself)\n",
    "highest_correlation_column = correlations.index[1]\n",
    "\n",
    "# Get the absolute value of the correlation rounded off to two decimal places\n",
    "correlation_value = round(correlations.iloc[1], 2)\n",
    "\n",
    "# Print the results separated by a new line\n",
    "print(highest_correlation_column)\n",
    "print(correlation_value)\n"
   ]
  },
  {
   "cell_type": "markdown",
   "id": "379ad183",
   "metadata": {},
   "source": [
    "4. Calculate IQR :\n",
    "\n",
    "Given File 'titanic.csv'\n",
    "\n",
    "\n",
    "Problem Statement:\n",
    "From the dataset, Calculate the IQR for the Age column.\n",
    "In the dataset, there are some null values present for the Age column. First, remove those and then calculate the IQR.\n",
    "\n",
    "\n",
    "Output Format:\n",
    "Print the IQR of Age, rounded off to two decimal places."
   ]
  },
  {
   "cell_type": "code",
   "execution_count": null,
   "id": "eae079a3",
   "metadata": {},
   "outputs": [],
   "source": [
    "import pandas as pd\n",
    "\n",
    "\n",
    "df = pd.read_csv('titanic.csv')\n",
    "\n",
    "df = df.dropna(subset=['Age'])\n",
    "age_iqr = df['Age'].quantile(0.75) - df['Age'].quantile(0.25)\n",
    "print(round(age_iqr,2))\n"
   ]
  },
  {
   "cell_type": "markdown",
   "id": "0df7f810",
   "metadata": {},
   "source": [
    "5. Analyze the Hypothesis : \n",
    "\n",
    "Given File 'titanic.csv'\n",
    "\n",
    "\n",
    "Problem Statement:\n",
    "From the dataset, find out if there is a significant difference in the mean sex between the passenger who survived and the passenger who did not survive?.\n",
    "\n",
    "\n",
    "In the dataset,\n",
    "For Survived = 0 means the passenger has not survived.\n",
    "\n",
    "For Survived = 1 means the passenger has survived.\n",
    "\n",
    "\n",
    "Output Format:\n",
    "Print \"Yes\" if there is a significant difference otherwise print \"No\".\n",
    "Here for significant difference, the mean should vary by 2 points at least."
   ]
  },
  {
   "cell_type": "code",
   "execution_count": null,
   "id": "e55ce3b6",
   "metadata": {},
   "outputs": [],
   "source": [
    "import pandas as pd\n",
    "from scipy.stats import ttest_ind\n",
    "\n",
    "# Load the dataset\n",
    "data = pd.read_csv('titanic.csv')\n",
    "\n",
    "# Extract ages of passengers who survived and did not survive\n",
    "age_survived = data[data['Survived'] == 1]['Age'].dropna()\n",
    "age_not_survived = data[data['Survived'] == 0]['Age'].dropna()\n",
    "\n",
    "# Perform t-test to compare means\n",
    "t_stat, p_value = ttest_ind(age_survived, age_not_survived)\n",
    "\n",
    "# Check if the absolute difference between means is at least 2 points\n",
    "if abs(age_survived.mean() - age_not_survived.mean()) >= 2 and p_value < 0.05:\n",
    "    print(\"No\")\n",
    "else:\n",
    "    print(\"Yes\")\n"
   ]
  }
 ],
 "metadata": {
  "kernelspec": {
   "display_name": "Python 3 (ipykernel)",
   "language": "python",
   "name": "python3"
  },
  "language_info": {
   "codemirror_mode": {
    "name": "ipython",
    "version": 3
   },
   "file_extension": ".py",
   "mimetype": "text/x-python",
   "name": "python",
   "nbconvert_exporter": "python",
   "pygments_lexer": "ipython3",
   "version": "3.11.3"
  }
 },
 "nbformat": 4,
 "nbformat_minor": 5
}
